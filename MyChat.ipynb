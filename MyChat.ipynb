{
 "cells": [
  {
   "cell_type": "code",
   "execution_count": 92,
   "metadata": {},
   "outputs": [
    {
     "name": "stdout",
     "output_type": "stream",
     "text": [
      "6/5/20, 23:36 - Sry Handini Puteri: sudah malaaaaam\n",
      "\n",
      "Number of message sent by Sry Handini Puteri : 18474\n",
      "Number of message sent by Fazlur Rahman : 21525\n"
     ]
    }
   ],
   "source": [
    "from parse import *\n",
    "\n",
    "f = open('ChatWithSry.txt', 'r', encoding=\"utf8\")\n",
    "content = f.read()\n",
    "#print(content)\n",
    "f.close()\n",
    "\n",
    "#initialize empty list and string\n",
    "chats = []\n",
    "chat = \"\"\n",
    "\n",
    "#init counter\n",
    "nb_sent_by_her = 0;\n",
    "nb_sent_by_me = 0;\n",
    "nb_sent_by_day = {1: 0, 2: 0, 3: 0, 4: 0, 5: 0, 6: 0, 7: 0} \n",
    "\n",
    "#init name\n",
    "her_name = \"Sry Handini Puteri\"\n",
    "my_name = \"Fazlur Rahman\"\n",
    "\n",
    "new_day = \"\"\n",
    "\n",
    "for i in range (len(content)):\n",
    "    chat = chat + content[i]\n",
    "    if (content[i] == \"\\n\"):\n",
    "        chats.append(chat)\n",
    "\n",
    "        r = parse(\"{}, {} - {}: {}\", chat)\n",
    "        \n",
    "        if (r is not None):\n",
    "            if (r[2] == her_name):\n",
    "                nb_sent_by_her += 1\n",
    "            elif (r[2] == my_name):\n",
    "                nb_sent_by_me +=1\n",
    "        \n",
    "        chat = \"\"\n",
    "        \n",
    "last_chat = chats[len(chats)-1]\n",
    "print(last_chat)\n",
    "r = parse(\"{}, {} - {}: {}\", last_chat)\n",
    "\n",
    "print(\"Number of message sent by \" + her_name + \" : \" + str(nb_sent_by_her))\n",
    "print(\"Number of message sent by \" + my_name + \" : \" + str(nb_sent_by_me))"
   ]
  }
 ],
 "metadata": {
  "kernelspec": {
   "display_name": "Python 3",
   "language": "python",
   "name": "python3"
  },
  "language_info": {
   "codemirror_mode": {
    "name": "ipython",
    "version": 3
   },
   "file_extension": ".py",
   "mimetype": "text/x-python",
   "name": "python",
   "nbconvert_exporter": "python",
   "pygments_lexer": "ipython3",
   "version": "3.6.5"
  }
 },
 "nbformat": 4,
 "nbformat_minor": 2
}
