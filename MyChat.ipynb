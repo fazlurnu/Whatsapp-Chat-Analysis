{
 "cells": [
  {
   "cell_type": "markdown",
   "metadata": {},
   "source": [
    "# Whatsapp Analyzer\n",
    "\n",
    "This jupyter notebook is used to analyze whatsapp chat. Just for fun ;)"
   ]
  },
  {
   "cell_type": "markdown",
   "metadata": {},
   "source": [
    "## Import Libraries"
   ]
  },
  {
   "cell_type": "code",
   "execution_count": 1,
   "metadata": {},
   "outputs": [],
   "source": [
    "import matplotlib.pyplot as plt; plt.rcdefaults()\n",
    "import numpy as np\n",
    "import matplotlib.pyplot as plt\n",
    "from parse import *"
   ]
  },
  {
   "cell_type": "markdown",
   "metadata": {},
   "source": [
    "## Define an Avatar Class"
   ]
  },
  {
   "cell_type": "code",
   "execution_count": 2,
   "metadata": {},
   "outputs": [],
   "source": [
    "class Avatar:\n",
    "  def __init__(self, name):\n",
    "    self.name = name\n",
    "    self.dictionary = {}\n",
    "    self.nb_chat_sent = 0;\n",
    "    self.key_words = []\n",
    "\n",
    "  def myfunc(self):\n",
    "    print(\"Hello my name is \" + self.name)\n",
    "    \n",
    "  def printDict(self):\n",
    "    print(self.name + \"'s dictionary: \")\n",
    "    print(self.dictionary)\n",
    "    \n",
    "  def printNbOfMessage(self):\n",
    "    print(\"Number of message sent by \" + self.name + \" : \" + str(self.nb_chat_sent))"
   ]
  },
  {
   "cell_type": "markdown",
   "metadata": {},
   "source": [
    "## Define Functions"
   ]
  },
  {
   "cell_type": "code",
   "execution_count": 3,
   "metadata": {},
   "outputs": [],
   "source": [
    "def build_dict_of_word(message, dictionary):\n",
    "    parsed_message = message.split(\" \")\n",
    "\n",
    "    for word in parsed_message:\n",
    "        if (word == 'unu'):\n",
    "            word = 'nu'\n",
    "\n",
    "        if (word not in list_of_neglected_words):\n",
    "            build_dict(word, dictionary)\n",
    "                \n",
    "def build_dict(keys, dictionary):\n",
    "    if(keys not in dictionary.keys()):\n",
    "        dictionary[keys] = 1\n",
    "    else:\n",
    "        dictionary[keys] += 1\n",
    "    \n",
    "\n",
    "def by_hour_list_day(date, list_of_date, keys, dictionary):\n",
    "    #if date is in list of date\n",
    "    #add counter\n",
    "    #else append the value list\n",
    "    #add counter\n",
    "    \n",
    "    date_counter\n",
    "    nb_of_chat_per_day = 0;\n",
    "    \n",
    "    if(date not in list_of_date):\n",
    "        dictionary[keys] \n",
    "    if(keys not in dictionary.keys()):\n",
    "        dictionary[keys] = 1\n",
    "    else:\n",
    "        dictionary[keys] += 1\n",
    "        \n",
    "def sort_dict_by_key(dictionary):\n",
    "    sorted_dict = {}\n",
    "    for i in sorted (dictionary): \n",
    "        sorted_dict[i] = dictionary[i]\n",
    "    \n",
    "    return sorted_dict\n",
    "\n",
    "def sort_dict_by_value(dictionary):\n",
    "    return sorted(dictionary.items(), key=lambda x: x[1], reverse=True)"
   ]
  },
  {
   "cell_type": "markdown",
   "metadata": {},
   "source": [
    "## Load Messages from Text File"
   ]
  },
  {
   "cell_type": "code",
   "execution_count": 4,
   "metadata": {},
   "outputs": [],
   "source": [
    "f = open('ChatWithSry.txt', 'r', encoding=\"utf8\")\n",
    "content = f.read()\n",
    "#print(content)\n",
    "f.close()"
   ]
  },
  {
   "cell_type": "markdown",
   "metadata": {},
   "source": [
    "## Initialize Variables"
   ]
  },
  {
   "cell_type": "code",
   "execution_count": 5,
   "metadata": {},
   "outputs": [],
   "source": [
    "#init name\n",
    "my_name = \"Fazlur Rahman\"\n",
    "partner_name = \"Sry Handini Puteri\"\n",
    "\n",
    "#instantiate person\n",
    "person1 = Avatar(my_name)\n",
    "person2 = Avatar(partner_name)\n",
    "\n",
    "#initialize empty list and string\n",
    "chats = []\n",
    "chat = \"\"\n",
    "\n",
    "#init list of neglected words\n",
    "list_of_neglected_words = ['<media', 'omitted>', 'di', 'yang', 'ba', 'nya', 'ini']\n",
    "\n",
    "#init counter\n",
    "nb_of_days = 0\n",
    "nb_sent_by_day = {1: 0, 2: 0, 3: 0, 4: 0, 5: 0, 6: 0, 7: 0} \n",
    "\n",
    "#init dict, nb of chat per day\n",
    "list_of_date = []\n",
    "dict_nb_of_chat_per_day = {}\n",
    "dict_nb_of_chat_by_hour = {}\n",
    "\n",
    "dict_per_day_per_hour = {}\n",
    "dict_nb_of_chat_by_hour_per_day = {}\n"
   ]
  },
  {
   "cell_type": "markdown",
   "metadata": {},
   "source": [
    "## Extract Data"
   ]
  },
  {
   "cell_type": "code",
   "execution_count": 6,
   "metadata": {},
   "outputs": [
    {
     "name": "stdout",
     "output_type": "stream",
     "text": [
      "6/5/20, 23:36 - Sry Handini Puteri: sudah malaaaaam\n",
      "\n"
     ]
    }
   ],
   "source": [
    "for i in range (len(content)):\n",
    "    chat = chat + content[i]\n",
    "    if (content[i] == \"\\n\"):\n",
    "        chats.append(chat)\n",
    "\n",
    "        r = parse(\"{}, {} - {}: {}\", chat)\n",
    "        \n",
    "        if (r is not None):\n",
    "            date = r[0]\n",
    "            hour_min = r[1]\n",
    "            sender = r[2]\n",
    "            message = r[3].lower()\n",
    "            \n",
    "            if (date not in dict_nb_of_chat_per_day.keys()):\n",
    "                nb_of_days += 1\n",
    "                \n",
    "            build_dict(date, dict_nb_of_chat_per_day);\n",
    "            \n",
    "            hour = hour_min.split(\":\")[0]\n",
    "            min = hour_min.split(\":\")[1]\n",
    "            \n",
    "            build_dict(hour, dict_nb_of_chat_by_hour)\n",
    "            build_dict(hour, dict_nb_of_chat_by_hour_per_day)\n",
    "            \n",
    "            if (date not in dict_per_day_per_hour.keys()):\n",
    "                dict_per_day_per_hour[date] = dict_nb_of_chat_by_hour_per_day\n",
    "                dict_nb_of_chat_by_hour_per_day = {}\n",
    "                \n",
    "                \n",
    "            if (sender == person1.name):\n",
    "                person1.nb_chat_sent += 1\n",
    "                build_dict_of_word(message, person1.dictionary)\n",
    "                        \n",
    "            elif (sender == person2.name):\n",
    "                person2.nb_chat_sent += 1\n",
    "                build_dict_of_word(message, person2.dictionary)\n",
    "                \n",
    "        chat = \"\"\n",
    "        \n",
    "last_chat = chats[len(chats)-1]\n",
    "print(last_chat)\n",
    "r = parse(\"{}, {} - {}: {}\", last_chat)"
   ]
  },
  {
   "cell_type": "markdown",
   "metadata": {},
   "source": [
    "## Process Data"
   ]
  },
  {
   "cell_type": "code",
   "execution_count": 7,
   "metadata": {},
   "outputs": [],
   "source": [
    "#get average nb of chat by hour\n",
    "dict_nb_of_chat_by_hour = {k: v / total for total in (nb_of_days,) for k, v in dict_nb_of_chat_by_hour.items()}\n",
    "dict_nb_of_chat_by_hour = sort_dict_by_key(dict_nb_of_chat_by_hour)\n",
    "\n",
    "\n",
    "#sort person's dictionary by value\n",
    "person1.dictionary = sort_dict_by_value(person1.dictionary)\n",
    "person2.dictionary = sort_dict_by_value(person2.dictionary)\n",
    "\n",
    "dict_list_per_hour = {}\n",
    "\n",
    "#print(dict_per_day_per_hour)\n",
    "for date_item in dict_per_day_per_hour.keys():\n",
    "    for hour in dict_per_day_per_hour[date_item].keys():\n",
    "        if hour not in dict_list_per_hour.keys():\n",
    "            dict_list_per_hour[hour] = []\n",
    "            dict_list_per_hour[hour].append(dict_per_day_per_hour[date_item][hour])\n",
    "        else:\n",
    "            dict_list_per_hour[hour].append(dict_per_day_per_hour[date_item][hour])\n",
    "            \n",
    "dict_list_per_hour = sort_dict_by_key(dict_list_per_hour)\n",
    "#print(dict_list_per_hour)\n",
    "\n",
    "# Calculate the average\n",
    "list_by_hour = []\n",
    "\n",
    "for key in dict_list_per_hour.keys():\n",
    "    array = np.array(dict_list_per_hour[key])\n",
    "    list_by_hour.append(array)\n",
    "    \n",
    "average_by_hour = []\n",
    "std_by_hour = []\n",
    "\n",
    "for element in list_by_hour:\n",
    "    average_by_hour.append(np.sum(element)/nb_of_days)\n",
    "    std_by_hour.append(np.std(element))\n",
    "    \n",
    "hours = dict_nb_of_chat_by_hour.keys()\n",
    "x_pos = np.arange(len(hours))\n",
    "CTEs = average_by_hour\n",
    "error = std_by_hour"
   ]
  },
  {
   "cell_type": "markdown",
   "metadata": {},
   "source": [
    "## Plot Number of Message Sent"
   ]
  },
  {
   "cell_type": "code",
   "execution_count": 8,
   "metadata": {},
   "outputs": [
    {
     "name": "stdout",
     "output_type": "stream",
     "text": [
      "Number of message sent by Fazlur Rahman : 21525\n",
      "Number of message sent by Sry Handini Puteri : 18474\n"
     ]
    },
    {
     "data": {
      "image/png": "[encoded data removed]",
      "text/plain": [
       "<Figure size 960x480 with 1 Axes>"
      ]
     },
     "metadata": {},
     "output_type": "display_data"
    }
   ],
   "source": [
    "person1.printNbOfMessage()\n",
    "person2.printNbOfMessage()\n",
    "\n",
    "# Pie chart, where the slices will be ordered and plotted counter-clockwise:\n",
    "labels = person1.name, person2.name\n",
    "sizes = [person1.nb_chat_sent, person2.nb_chat_sent]\n",
    "explode = (0.05, 0.01)  # only \"explode\" the 2nd slice (i.e. 'Hogs')\n",
    "\n",
    "def func(pct, allvals):\n",
    "    absolute = int(pct/100.*np.sum(allvals))\n",
    "    return \"{:.1f}%\\n({:d})\".format(pct, absolute)\n",
    "\n",
    "colors = ['#ff7f5c','#26fc51','#f2e207']\n",
    "\n",
    "fig1, ax1 = plt.subplots()\n",
    "\n",
    "def func(pct, allvals):\n",
    "    absolute = int(pct/100.*np.sum(allvals))\n",
    "    return \"{:.1f}%\\n({:d})\".format(pct, absolute)\n",
    "\n",
    "ax1.pie(sizes, explode=explode, labels=labels, colors=colors, autopct=lambda pct: func(pct, sizes),\n",
    "        shadow=False, startangle=90, pctdistance=0.8)# Equal aspect ratio ensures that pie is drawn as a circle\n",
    "\n",
    "plt.gcf().set_size_inches(w=20/1.5,h=10/1.5)\n",
    "plt.title('Number of Chat Sent', fontsize=16, y = -0.1)\n",
    "ax1.axis('equal')\n",
    "plt.tight_layout()\n",
    "plt.show()"
   ]
  },
  {
   "cell_type": "markdown",
   "metadata": {},
   "source": [
    "## Plot Average Message Sent"
   ]
  },
  {
   "cell_type": "code",
   "execution_count": 24,
   "metadata": {},
   "outputs": [
    {
     "data": {
      "image/png": "[encoded data removed]",
      "text/plain": [
       "<Figure size 768x432 with 1 Axes>"
      ]
     },
     "metadata": {},
     "output_type": "display_data"
    }
   ],
   "source": [
    "fig, ax = plt.subplots()\n",
    "ax.bar(x_pos, average_by_hour, color ='r', alpha = 0.7)\n",
    "plt.xticks(x_pos, hours, rotation=45)\n",
    "plt.ylabel('Average message sent')\n",
    "plt.xlabel('Time')\n",
    "plt.title('Message Sent Over a Day')\n",
    "plt.gcf().set_size_inches(w=16/1.5,h=9/1.5)\n",
    "plt.tight_layout()\n",
    "plt.show()\n"
   ]
  },
  {
   "cell_type": "markdown",
   "metadata": {},
   "source": [
    "## Frequently Used Word"
   ]
  },
  {
   "cell_type": "code",
   "execution_count": 46,
   "metadata": {},
   "outputs": [
    {
     "data": {
      "image/png": "[encoded data removed]",
      "text/plain": [
       "<Figure size 432x288 with 1 Axes>"
      ]
     },
     "metadata": {},
     "output_type": "display_data"
    }
   ],
   "source": [
    "key_words = []\n",
    "nb_of_usage = []\n",
    "\n",
    "person1.key_words = []\n",
    "person2.key_words = []\n",
    "\n",
    "for i in range(10):\n",
    "    person1.key_words.append((person1.dictionary[i][0], person1.dictionary[i][1]))\n",
    "    person2.key_words.append((person2.dictionary[i][0], person2.dictionary[i][1]))\n",
    "    \n",
    "#print(person2.key_words)\n",
    "labels1 = []\n",
    "data1 = []\n",
    "labels2 = []\n",
    "data2 = []\n",
    "\n",
    "for i in range(10):\n",
    "    labels1.append(person1.key_words[i][0])\n",
    "    data1.append(person1.key_words[i][1])\n",
    "    \n",
    "    labels2.append(person2.key_words[i][0])\n",
    "    data2.append(person2.key_words[i][1])\n",
    "\n",
    "# Make fake dataset\n",
    "y_pos1 = np.arange(len(labels1))\n",
    "y_pos2 = np.arange(len(labels2))\n",
    "\n",
    "# Create horizontal bars\n",
    "plot1 = plt.barh(y_pos1, data1)\n",
    "\n",
    "# Create names on the y-axis\n",
    "plt.yticks(y_pos1, labels1)\n",
    "\n",
    "# Show graphic\n",
    "plt.show()\n",
    "\n",
    "fig, axs = plt.subplots(2)\n",
    "fig.suptitle('Vertically stacked subplots')\n",
    "axs[0].plot(y_pos1, data1)\n",
    "axs[1].plot(y_pos1, data1)"
   ]
  }
 ],
 "metadata": {
  "kernelspec": {
   "display_name": "Python 3",
   "language": "python",
   "name": "python3"
  },
  "language_info": {
   "codemirror_mode": {
    "name": "ipython",
    "version": 3
   },
   "file_extension": ".py",
   "mimetype": "text/x-python",
   "name": "python",
   "nbconvert_exporter": "python",
   "pygments_lexer": "ipython3",
   "version": "3.6.5"
  }
 },
 "nbformat": 4,
 "nbformat_minor": 2
}
